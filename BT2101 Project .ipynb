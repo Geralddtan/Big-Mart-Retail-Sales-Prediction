{
 "cells": [
  {
   "cell_type": "code",
   "execution_count": 3,
   "metadata": {},
   "outputs": [
    {
     "name": "stderr",
     "output_type": "stream",
     "text": [
      "Updating HTML index of packages in '.Library'\n",
      "Making 'packages.html' ... done\n",
      "also installing the dependencies ‘zip’, ‘SparseM’, ‘MatrixModels’, ‘sp’, ‘openxlsx’, ‘minqa’, ‘nloptr’, ‘RcppEigen’, ‘carData’, ‘abind’, ‘pbkrtest’, ‘quantreg’, ‘maptools’, ‘rio’, ‘lme4’\n",
      "\n",
      "Warning message in install.packages(\"car\"):\n",
      "“installation of package ‘zip’ had non-zero exit status”Warning message in install.packages(\"car\"):\n",
      "“installation of package ‘nloptr’ had non-zero exit status”Warning message in install.packages(\"car\"):\n",
      "“installation of package ‘openxlsx’ had non-zero exit status”Warning message in install.packages(\"car\"):\n",
      "“installation of package ‘lme4’ had non-zero exit status”Warning message in install.packages(\"car\"):\n",
      "“installation of package ‘pbkrtest’ had non-zero exit status”Warning message in install.packages(\"car\"):\n",
      "“installation of package ‘rio’ had non-zero exit status”Warning message in install.packages(\"car\"):\n",
      "“installation of package ‘car’ had non-zero exit status”Updating HTML index of packages in '.Library'\n",
      "Making 'packages.html' ... done\n",
      "also installing the dependency ‘rlang’\n",
      "\n",
      "Updating HTML index of packages in '.Library'\n",
      "Making 'packages.html' ... done\n",
      "Updating HTML index of packages in '.Library'\n",
      "Making 'packages.html' ... done\n",
      "also installing the dependencies ‘quadprog’, ‘fracdiff’, ‘lmtest’, ‘tseries’, ‘urca’, ‘RcppArmadillo’\n",
      "\n",
      "Warning message in install.packages(\"forecast\"):\n",
      "“installation of package ‘RcppArmadillo’ had non-zero exit status”Warning message in install.packages(\"forecast\"):\n",
      "“installation of package ‘forecast’ had non-zero exit status”Updating HTML index of packages in '.Library'\n",
      "Making 'packages.html' ... done\n",
      "Updating HTML index of packages in '.Library'\n",
      "Making 'packages.html' ... done\n",
      "also installing the dependency ‘sandwich’\n",
      "\n",
      "Updating HTML index of packages in '.Library'\n",
      "Making 'packages.html' ... done\n"
     ]
    }
   ],
   "source": [
    "install.packages(\"psych\")\n",
    "install.packages(\"car\")\n",
    "install.packages(\"dplyr\")\n",
    "install.packages(\"ggplot2\")\n",
    "install.packages(\"forecast\")\n",
    "install.packages(\"tseries\")\n",
    "install.packages(\"bucky\")\n"
   ]
  },
  {
   "cell_type": "code",
   "execution_count": 4,
   "metadata": {},
   "outputs": [
    {
     "name": "stderr",
     "output_type": "stream",
     "text": [
      "also installing the dependencies ‘nloptr’, ‘ucminf’, ‘lme4’, ‘ordinal’, ‘pan’, ‘jomo’, ‘mitml’, ‘mice’, ‘mitools’, ‘RcppArmadillo’\n",
      "\n",
      "Warning message in install.packages(\"miceadds\"):\n",
      "“installation of package ‘nloptr’ had non-zero exit status”Warning message in install.packages(\"miceadds\"):\n",
      "“installation of package ‘RcppArmadillo’ had non-zero exit status”Warning message in install.packages(\"miceadds\"):\n",
      "“installation of package ‘lme4’ had non-zero exit status”Warning message in install.packages(\"miceadds\"):\n",
      "“installation of package ‘jomo’ had non-zero exit status”Warning message in install.packages(\"miceadds\"):\n",
      "“installation of package ‘mitml’ had non-zero exit status”Warning message in install.packages(\"miceadds\"):\n",
      "“installation of package ‘mice’ had non-zero exit status”Warning message in install.packages(\"miceadds\"):\n",
      "“installation of package ‘miceadds’ had non-zero exit status”Updating HTML index of packages in '.Library'\n",
      "Making 'packages.html' ... done\n",
      "Updating HTML index of packages in '.Library'\n",
      "Making 'packages.html' ... done\n",
      "Updating HTML index of packages in '.Library'\n",
      "Making 'packages.html' ... done\n",
      "also installing the dependencies ‘gridExtra’, ‘bitops’, ‘viridis’, ‘gtools’, ‘gdata’, ‘caTools’, ‘TSP’, ‘qap’, ‘gclus’, ‘dendextend’, ‘gplots’, ‘registry’, ‘seriation’, ‘ggrepel’\n",
      "\n",
      "Updating HTML index of packages in '.Library'\n",
      "Making 'packages.html' ... done\n",
      "also installing the dependencies ‘ellipsis’, ‘zeallot’, ‘vctrs’, ‘lifecycle’, ‘dbplyr’, ‘haven’, ‘hms’, ‘httr’, ‘modelr’, ‘pillar’, ‘purrr’, ‘reprex’, ‘rvest’, ‘tibble’, ‘tidyr’, ‘xml2’\n",
      "\n",
      "Updating HTML index of packages in '.Library'\n",
      "Making 'packages.html' ... done\n"
     ]
    }
   ],
   "source": [
    "install.packages(\"miceadds\")\n",
    "install.packages(\"multiwayvcov\")\n",
    "install.packages(\"stargazer\")\n",
    "install.packages(\"corrr\")\n",
    "install.packages(\"tidyverse\")"
   ]
  },
  {
   "cell_type": "code",
   "execution_count": null,
   "metadata": {},
   "outputs": [],
   "source": [
    "library(readxl)\n",
    "library(psych)\n",
    "library(car)\n",
    "library(dplyr)\n",
    "library(ggplot2)\n",
    "library(forecast)\n",
    "library(tseries)\n",
    "library(bucky) #install.packages('bucky')\n",
    "library(miceadds) #install.packages('miceadds')\n",
    "library(multiwayvcov) #install.packages('multiwayvcov')\n",
    "library(stargazer) # install.packages('stargazer')\n",
    "library(corrr)\n",
    "library(tidyverse)\n",
    "\n",
    "file = read.csv('energydata_complete.csv')"
   ]
  },
  {
   "cell_type": "code",
   "execution_count": 9,
   "metadata": {
    "scrolled": true
   },
   "outputs": [
    {
     "data": {
      "text/html": [
       "<table>\n",
       "<thead><tr><th scope=col>Hour</th><th scope=col>Date</th><th scope=col>Appliances</th><th scope=col>Temp_Kitchen</th><th scope=col>Humd_Kitchen</th><th scope=col>Temp_Living_Room</th><th scope=col>Humd_Living_Room</th><th scope=col>Humd_Laundry</th><th scope=col>Temp_Office</th><th scope=col>Humd_Office</th><th scope=col>Humd_Ironing</th><th scope=col>Temp_Teen_2</th><th scope=col>Humd_Teen_2</th><th scope=col>Humd_Parents</th><th scope=col>Temp_Outside</th><th scope=col>Pressure_Outside</th><th scope=col>Humd_Outside</th><th scope=col>Wind_Speed</th><th scope=col>Visibility</th><th scope=col>Tdewpoint</th></tr></thead>\n",
       "<tbody>\n",
       "\t<tr><td>Night              </td><td>2016-01-11 17:00:00</td><td>60                 </td><td>19.89              </td><td>47.59667           </td><td>19.2               </td><td>44.79000           </td><td>44.73000           </td><td>19.00000           </td><td>45.56667           </td><td>41.62667           </td><td>18.2               </td><td>48.90000           </td><td>45.53              </td><td>6.600000           </td><td>733.5              </td><td>92                 </td><td>7.000000           </td><td>63.00000           </td><td>5.3                </td></tr>\n",
       "\t<tr><td>Night              </td><td>2016-01-11 17:10:00</td><td>60                 </td><td>19.89              </td><td>46.69333           </td><td>19.2               </td><td>44.72250           </td><td>44.79000           </td><td>19.00000           </td><td>45.99250           </td><td>41.56000           </td><td>18.2               </td><td>48.86333           </td><td>45.56              </td><td>6.483333           </td><td>733.6              </td><td>92                 </td><td>6.666667           </td><td>59.16667           </td><td>5.2                </td></tr>\n",
       "\t<tr><td>Night              </td><td>2016-01-11 17:20:00</td><td>50                 </td><td>19.89              </td><td>46.30000           </td><td>19.2               </td><td>44.62667           </td><td>44.93333           </td><td>18.92667           </td><td>45.89000           </td><td>41.43333           </td><td>18.2               </td><td>48.73000           </td><td>45.50              </td><td>6.366667           </td><td>733.7              </td><td>92                 </td><td>6.333333           </td><td>55.33333           </td><td>5.1                </td></tr>\n",
       "\t<tr><td>Night              </td><td>2016-01-11 17:30:00</td><td>50                 </td><td>19.89              </td><td>46.06667           </td><td>19.2               </td><td>44.59000           </td><td>45.00000           </td><td>18.89000           </td><td>45.72333           </td><td>41.29000           </td><td>18.1               </td><td>48.59000           </td><td>45.40              </td><td>6.250000           </td><td>733.8              </td><td>92                 </td><td>6.000000           </td><td>51.50000           </td><td>5.0                </td></tr>\n",
       "\t<tr><td>Night              </td><td>2016-01-11 17:40:00</td><td>60                 </td><td>19.89              </td><td>46.33333           </td><td>19.2               </td><td>44.53000           </td><td>45.00000           </td><td>18.89000           </td><td>45.53000           </td><td>41.23000           </td><td>18.1               </td><td>48.59000           </td><td>45.40              </td><td>6.133333           </td><td>733.9              </td><td>92                 </td><td>5.666667           </td><td>47.66667           </td><td>4.9                </td></tr>\n",
       "\t<tr><td>Night              </td><td>2016-01-11 17:50:00</td><td>50                 </td><td>19.89              </td><td>46.02667           </td><td>19.2               </td><td>44.50000           </td><td>44.93333           </td><td>18.89000           </td><td>45.73000           </td><td>41.26000           </td><td>18.1               </td><td>48.59000           </td><td>45.29              </td><td>6.016667           </td><td>734.0              </td><td>92                 </td><td>5.333333           </td><td>43.83333           </td><td>4.8                </td></tr>\n",
       "</tbody>\n",
       "</table>\n"
      ],
      "text/latex": [
       "\\begin{tabular}{r|llllllllllllllllllll}\n",
       " Hour & Date & Appliances & Temp\\_Kitchen & Humd\\_Kitchen & Temp\\_Living\\_Room & Humd\\_Living\\_Room & Humd\\_Laundry & Temp\\_Office & Humd\\_Office & Humd\\_Ironing & Temp\\_Teen\\_2 & Humd\\_Teen\\_2 & Humd\\_Parents & Temp\\_Outside & Pressure\\_Outside & Humd\\_Outside & Wind\\_Speed & Visibility & Tdewpoint\\\\\n",
       "\\hline\n",
       "\t Night               & 2016-01-11 17:00:00 & 60                  & 19.89               & 47.59667            & 19.2                & 44.79000            & 44.73000            & 19.00000            & 45.56667            & 41.62667            & 18.2                & 48.90000            & 45.53               & 6.600000            & 733.5               & 92                  & 7.000000            & 63.00000            & 5.3                \\\\\n",
       "\t Night               & 2016-01-11 17:10:00 & 60                  & 19.89               & 46.69333            & 19.2                & 44.72250            & 44.79000            & 19.00000            & 45.99250            & 41.56000            & 18.2                & 48.86333            & 45.56               & 6.483333            & 733.6               & 92                  & 6.666667            & 59.16667            & 5.2                \\\\\n",
       "\t Night               & 2016-01-11 17:20:00 & 50                  & 19.89               & 46.30000            & 19.2                & 44.62667            & 44.93333            & 18.92667            & 45.89000            & 41.43333            & 18.2                & 48.73000            & 45.50               & 6.366667            & 733.7               & 92                  & 6.333333            & 55.33333            & 5.1                \\\\\n",
       "\t Night               & 2016-01-11 17:30:00 & 50                  & 19.89               & 46.06667            & 19.2                & 44.59000            & 45.00000            & 18.89000            & 45.72333            & 41.29000            & 18.1                & 48.59000            & 45.40               & 6.250000            & 733.8               & 92                  & 6.000000            & 51.50000            & 5.0                \\\\\n",
       "\t Night               & 2016-01-11 17:40:00 & 60                  & 19.89               & 46.33333            & 19.2                & 44.53000            & 45.00000            & 18.89000            & 45.53000            & 41.23000            & 18.1                & 48.59000            & 45.40               & 6.133333            & 733.9               & 92                  & 5.666667            & 47.66667            & 4.9                \\\\\n",
       "\t Night               & 2016-01-11 17:50:00 & 50                  & 19.89               & 46.02667            & 19.2                & 44.50000            & 44.93333            & 18.89000            & 45.73000            & 41.26000            & 18.1                & 48.59000            & 45.29               & 6.016667            & 734.0               & 92                  & 5.333333            & 43.83333            & 4.8                \\\\\n",
       "\\end{tabular}\n"
      ],
      "text/markdown": [
       "\n",
       "| Hour | Date | Appliances | Temp_Kitchen | Humd_Kitchen | Temp_Living_Room | Humd_Living_Room | Humd_Laundry | Temp_Office | Humd_Office | Humd_Ironing | Temp_Teen_2 | Humd_Teen_2 | Humd_Parents | Temp_Outside | Pressure_Outside | Humd_Outside | Wind_Speed | Visibility | Tdewpoint |\n",
       "|---|---|---|---|---|---|---|---|---|---|---|---|---|---|---|---|---|---|---|---|\n",
       "| Night               | 2016-01-11 17:00:00 | 60                  | 19.89               | 47.59667            | 19.2                | 44.79000            | 44.73000            | 19.00000            | 45.56667            | 41.62667            | 18.2                | 48.90000            | 45.53               | 6.600000            | 733.5               | 92                  | 7.000000            | 63.00000            | 5.3                 |\n",
       "| Night               | 2016-01-11 17:10:00 | 60                  | 19.89               | 46.69333            | 19.2                | 44.72250            | 44.79000            | 19.00000            | 45.99250            | 41.56000            | 18.2                | 48.86333            | 45.56               | 6.483333            | 733.6               | 92                  | 6.666667            | 59.16667            | 5.2                 |\n",
       "| Night               | 2016-01-11 17:20:00 | 50                  | 19.89               | 46.30000            | 19.2                | 44.62667            | 44.93333            | 18.92667            | 45.89000            | 41.43333            | 18.2                | 48.73000            | 45.50               | 6.366667            | 733.7               | 92                  | 6.333333            | 55.33333            | 5.1                 |\n",
       "| Night               | 2016-01-11 17:30:00 | 50                  | 19.89               | 46.06667            | 19.2                | 44.59000            | 45.00000            | 18.89000            | 45.72333            | 41.29000            | 18.1                | 48.59000            | 45.40               | 6.250000            | 733.8               | 92                  | 6.000000            | 51.50000            | 5.0                 |\n",
       "| Night               | 2016-01-11 17:40:00 | 60                  | 19.89               | 46.33333            | 19.2                | 44.53000            | 45.00000            | 18.89000            | 45.53000            | 41.23000            | 18.1                | 48.59000            | 45.40               | 6.133333            | 733.9               | 92                  | 5.666667            | 47.66667            | 4.9                 |\n",
       "| Night               | 2016-01-11 17:50:00 | 50                  | 19.89               | 46.02667            | 19.2                | 44.50000            | 44.93333            | 18.89000            | 45.73000            | 41.26000            | 18.1                | 48.59000            | 45.29               | 6.016667            | 734.0               | 92                  | 5.333333            | 43.83333            | 4.8                 |\n",
       "\n"
      ],
      "text/plain": [
       "  Hour  Date                Appliances Temp_Kitchen Humd_Kitchen\n",
       "1 Night 2016-01-11 17:00:00 60         19.89        47.59667    \n",
       "2 Night 2016-01-11 17:10:00 60         19.89        46.69333    \n",
       "3 Night 2016-01-11 17:20:00 50         19.89        46.30000    \n",
       "4 Night 2016-01-11 17:30:00 50         19.89        46.06667    \n",
       "5 Night 2016-01-11 17:40:00 60         19.89        46.33333    \n",
       "6 Night 2016-01-11 17:50:00 50         19.89        46.02667    \n",
       "  Temp_Living_Room Humd_Living_Room Humd_Laundry Temp_Office Humd_Office\n",
       "1 19.2             44.79000         44.73000     19.00000    45.56667   \n",
       "2 19.2             44.72250         44.79000     19.00000    45.99250   \n",
       "3 19.2             44.62667         44.93333     18.92667    45.89000   \n",
       "4 19.2             44.59000         45.00000     18.89000    45.72333   \n",
       "5 19.2             44.53000         45.00000     18.89000    45.53000   \n",
       "6 19.2             44.50000         44.93333     18.89000    45.73000   \n",
       "  Humd_Ironing Temp_Teen_2 Humd_Teen_2 Humd_Parents Temp_Outside\n",
       "1 41.62667     18.2        48.90000    45.53        6.600000    \n",
       "2 41.56000     18.2        48.86333    45.56        6.483333    \n",
       "3 41.43333     18.2        48.73000    45.50        6.366667    \n",
       "4 41.29000     18.1        48.59000    45.40        6.250000    \n",
       "5 41.23000     18.1        48.59000    45.40        6.133333    \n",
       "6 41.26000     18.1        48.59000    45.29        6.016667    \n",
       "  Pressure_Outside Humd_Outside Wind_Speed Visibility Tdewpoint\n",
       "1 733.5            92           7.000000   63.00000   5.3      \n",
       "2 733.6            92           6.666667   59.16667   5.2      \n",
       "3 733.7            92           6.333333   55.33333   5.1      \n",
       "4 733.8            92           6.000000   51.50000   5.0      \n",
       "5 733.9            92           5.666667   47.66667   4.9      \n",
       "6 734.0            92           5.333333   43.83333   4.8      "
      ]
     },
     "metadata": {},
     "output_type": "display_data"
    }
   ],
   "source": [
    "head(file)"
   ]
  },
  {
   "cell_type": "code",
   "execution_count": null,
   "metadata": {},
   "outputs": [],
   "source": []
  }
 ],
 "metadata": {
  "kernelspec": {
   "display_name": "R",
   "language": "R",
   "name": "ir"
  },
  "language_info": {
   "codemirror_mode": "r",
   "file_extension": ".r",
   "mimetype": "text/x-r-source",
   "name": "R",
   "pygments_lexer": "r",
   "version": "3.6.1"
  }
 },
 "nbformat": 4,
 "nbformat_minor": 2
}
