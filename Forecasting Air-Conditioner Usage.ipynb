{
 "cells": [
  {
   "cell_type": "markdown",
   "metadata": {},
   "source": [
    "# Building a model to forecast Air-Conditioning Usage\n",
    "\n",
    "By Gerald Tan, Aeron Sim, Victor Cheong\n",
    "\n",
    "## Table of Contents\n",
    "1. EDA\n",
    ".......\n",
    "\n",
    "## Problem Description\n",
    "The goal of this project is to predict and forecast Air Conditioning usage using external weather variables such as temperature, wind speed, humidity.\n",
    "This project will cover the entire process from Data Exploration to the prediction of air conditioning usage to forecasting usage into the future. \n",
    "\n",
    "The Dataset contains data points from a 29 variables and is a time series dataset over fixed 10 minute intervals for a total of 19375 data points. \n",
    "\n",
    "The variables are as described below:\n",
    "V1 - Date\n",
    "\n",
    "### Appliance Usage (in Wh)\n",
    "V2 - Appliances Energy use\n",
    "V3 - Lights Energy use\n",
    "\n",
    "### Temperature and Humidity measurements \n",
    "V4 - Temperature Measurement of Kitchen\n",
    "V5 - Humidity Measurement of Kitchen\n",
    "\n",
    "V6 - Temperature Measurement of Living Room\n",
    "V7 - Humidity Measurement of Living Room\n",
    "\n",
    "V8 - Temperature Measurement of Laundry Room\n",
    "V9 - Humidity Measurement of Laundry Room\n",
    "\n",
    "V10 - Temperature Measurement of Office\n",
    "V11 - Humidity Measurement of Office\n",
    "\n",
    "V12 - Temperature Measurement of Ironing Room\n",
    "V13 - Humidity Measurement of Ironing Room\n",
    "\n",
    "V14 - Temperature Measurement of Teenager Room 2\n",
    "V15 - Humidity Measurement of Teenager Room 2\n",
    "\n",
    "V16 - Temperature Measurement of Parents Room\n",
    "V17 - Humidity Measurement of Parents Room\n",
    "\n",
    "\n",
    "\n",
    "### External Measurements\n",
    "\n",
    "V18 - External Temperature\n",
    "V19 - External Pressure\n",
    "V20 - External Humidity\n",
    "V21 - External Wind Speed\n",
    "V20 - External Visibility\n",
    "V21 - External TdewPoint\n",
    "\n",
    "## Exploratory Data Analysis\n"
   ]
  },
  {
   "cell_type": "code",
   "execution_count": 4,
   "metadata": {},
   "outputs": [
    {
     "name": "stderr",
     "output_type": "stream",
     "text": [
      "also installing the dependencies ‘fs’, ‘usethis’, ‘git2r’\n",
      "\n",
      "Warning message in install.packages(\"devtools\"):\n",
      "“installation of package ‘fs’ had non-zero exit status”Warning message in install.packages(\"devtools\"):\n",
      "“installation of package ‘git2r’ had non-zero exit status”Warning message in install.packages(\"devtools\"):\n",
      "“installation of package ‘usethis’ had non-zero exit status”Warning message in install.packages(\"devtools\"):\n",
      "“installation of package ‘devtools’ had non-zero exit status”Updating HTML index of packages in '.Library'\n",
      "Making 'packages.html' ... done\n"
     ]
    }
   ],
   "source": [
    "install.packages(\"devtools\")"
   ]
  },
  {
   "cell_type": "code",
   "execution_count": 5,
   "metadata": {},
   "outputs": [
    {
     "ename": "ERROR",
     "evalue": "Error in library(devtools): there is no package called ‘devtools’\n",
     "output_type": "error",
     "traceback": [
      "Error in library(devtools): there is no package called ‘devtools’\nTraceback:\n",
      "1. library(devtools)"
     ]
    }
   ],
   "source": [
    "library(devtools)"
   ]
  },
  {
   "cell_type": "code",
   "execution_count": 3,
   "metadata": {},
   "outputs": [
    {
     "name": "stderr",
     "output_type": "stream",
     "text": [
      "Updating HTML index of packages in '.Library'\n",
      "Making 'packages.html' ... done\n",
      "also installing the dependencies ‘zip’, ‘SparseM’, ‘MatrixModels’, ‘sp’, ‘openxlsx’, ‘minqa’, ‘nloptr’, ‘RcppEigen’, ‘carData’, ‘abind’, ‘pbkrtest’, ‘quantreg’, ‘maptools’, ‘rio’, ‘lme4’\n",
      "\n",
      "Warning message in install.packages(\"car\"):\n",
      "“installation of package ‘zip’ had non-zero exit status”Warning message in install.packages(\"car\"):\n",
      "“installation of package ‘nloptr’ had non-zero exit status”Warning message in install.packages(\"car\"):\n",
      "“installation of package ‘openxlsx’ had non-zero exit status”Warning message in install.packages(\"car\"):\n",
      "“installation of package ‘lme4’ had non-zero exit status”Warning message in install.packages(\"car\"):\n",
      "“installation of package ‘pbkrtest’ had non-zero exit status”Warning message in install.packages(\"car\"):\n",
      "“installation of package ‘rio’ had non-zero exit status”Warning message in install.packages(\"car\"):\n",
      "“installation of package ‘car’ had non-zero exit status”Updating HTML index of packages in '.Library'\n",
      "Making 'packages.html' ... done\n",
      "also installing the dependency ‘rlang’\n",
      "\n",
      "Updating HTML index of packages in '.Library'\n",
      "Making 'packages.html' ... done\n",
      "Updating HTML index of packages in '.Library'\n",
      "Making 'packages.html' ... done\n",
      "also installing the dependencies ‘quadprog’, ‘fracdiff’, ‘lmtest’, ‘tseries’, ‘urca’, ‘RcppArmadillo’\n",
      "\n",
      "Warning message in install.packages(\"forecast\"):\n",
      "“installation of package ‘RcppArmadillo’ had non-zero exit status”Warning message in install.packages(\"forecast\"):\n",
      "“installation of package ‘forecast’ had non-zero exit status”Updating HTML index of packages in '.Library'\n",
      "Making 'packages.html' ... done\n",
      "Updating HTML index of packages in '.Library'\n",
      "Making 'packages.html' ... done\n",
      "also installing the dependency ‘sandwich’\n",
      "\n",
      "Updating HTML index of packages in '.Library'\n",
      "Making 'packages.html' ... done\n"
     ]
    }
   ],
   "source": [
    "install.packages(\"psych\")\n",
    "install.packages(\"car\")\n",
    "install.packages(\"dplyr\")\n",
    "install.packages(\"ggplot2\")\n",
    "install.packages(\"forecast\")\n",
    "install.packages(\"tseries\")\n",
    "install.packages(\"bucky\")\n"
   ]
  },
  {
   "cell_type": "code",
   "execution_count": 4,
   "metadata": {},
   "outputs": [
    {
     "name": "stderr",
     "output_type": "stream",
     "text": [
      "also installing the dependencies ‘nloptr’, ‘ucminf’, ‘lme4’, ‘ordinal’, ‘pan’, ‘jomo’, ‘mitml’, ‘mice’, ‘mitools’, ‘RcppArmadillo’\n",
      "\n",
      "Warning message in install.packages(\"miceadds\"):\n",
      "“installation of package ‘nloptr’ had non-zero exit status”Warning message in install.packages(\"miceadds\"):\n",
      "“installation of package ‘RcppArmadillo’ had non-zero exit status”Warning message in install.packages(\"miceadds\"):\n",
      "“installation of package ‘lme4’ had non-zero exit status”Warning message in install.packages(\"miceadds\"):\n",
      "“installation of package ‘jomo’ had non-zero exit status”Warning message in install.packages(\"miceadds\"):\n",
      "“installation of package ‘mitml’ had non-zero exit status”Warning message in install.packages(\"miceadds\"):\n",
      "“installation of package ‘mice’ had non-zero exit status”Warning message in install.packages(\"miceadds\"):\n",
      "“installation of package ‘miceadds’ had non-zero exit status”Updating HTML index of packages in '.Library'\n",
      "Making 'packages.html' ... done\n",
      "Updating HTML index of packages in '.Library'\n",
      "Making 'packages.html' ... done\n",
      "Updating HTML index of packages in '.Library'\n",
      "Making 'packages.html' ... done\n",
      "also installing the dependencies ‘gridExtra’, ‘bitops’, ‘viridis’, ‘gtools’, ‘gdata’, ‘caTools’, ‘TSP’, ‘qap’, ‘gclus’, ‘dendextend’, ‘gplots’, ‘registry’, ‘seriation’, ‘ggrepel’\n",
      "\n",
      "Updating HTML index of packages in '.Library'\n",
      "Making 'packages.html' ... done\n",
      "also installing the dependencies ‘ellipsis’, ‘zeallot’, ‘vctrs’, ‘lifecycle’, ‘dbplyr’, ‘haven’, ‘hms’, ‘httr’, ‘modelr’, ‘pillar’, ‘purrr’, ‘reprex’, ‘rvest’, ‘tibble’, ‘tidyr’, ‘xml2’\n",
      "\n",
      "Updating HTML index of packages in '.Library'\n",
      "Making 'packages.html' ... done\n"
     ]
    }
   ],
   "source": [
    "install.packages(\"miceadds\")\n",
    "install.packages(\"multiwayvcov\")\n",
    "install.packages(\"stargazer\")\n",
    "install.packages(\"corrr\")\n",
    "install.packages(\"tidyverse\")"
   ]
  },
  {
   "cell_type": "code",
   "execution_count": 3,
   "metadata": {
    "scrolled": true
   },
   "outputs": [
    {
     "name": "stderr",
     "output_type": "stream",
     "text": [
      "also installing the dependencies ‘ini’, ‘clisymbols’, ‘fs’, ‘gh’, ‘rprojroot’, ‘rex’, ‘crosstalk’, ‘xopen’, ‘brew’, ‘commonmark’, ‘praise’, ‘usethis’, ‘covr’, ‘desc’, ‘DT’, ‘git2r’, ‘memoise’, ‘pkgbuild’, ‘pkgload’, ‘rcmdcheck’, ‘remotes’, ‘roxygen2’, ‘rversions’, ‘sessioninfo’, ‘testthat’\n",
      "\n",
      "Warning message in install.packages(\"devtools\"):\n",
      "“installation of package ‘fs’ had non-zero exit status”Warning message in install.packages(\"devtools\"):\n",
      "“installation of package ‘git2r’ had non-zero exit status”Warning message in install.packages(\"devtools\"):\n",
      "“installation of package ‘usethis’ had non-zero exit status”Warning message in install.packages(\"devtools\"):\n",
      "“installation of package ‘devtools’ had non-zero exit status”Updating HTML index of packages in '.Library'\n",
      "Making 'packages.html' ... done\n",
      "also installing the dependency ‘RcppArmadillo’\n",
      "\n",
      "Warning message in install.packages(\"forecast\"):\n",
      "“installation of package ‘RcppArmadillo’ had non-zero exit status”Warning message in install.packages(\"forecast\"):\n",
      "“installation of package ‘forecast’ had non-zero exit status”Updating HTML index of packages in '.Library'\n",
      "Making 'packages.html' ... done\n"
     ]
    },
    {
     "ename": "ERROR",
     "evalue": "Error in library(forecast): there is no package called ‘forecast’\n",
     "output_type": "error",
     "traceback": [
      "Error in library(forecast): there is no package called ‘forecast’\nTraceback:\n",
      "1. library(forecast)"
     ]
    }
   ],
   "source": [
    "library(readxl)\n",
    "library(psych)\n",
    "library(dplyr)\n",
    "library(ggplot2)\n",
    "install.packages(\"devtools\")\n",
    "install.packages(\"forecast\")\n",
    "library(forecast)\n",
    "library(tseries)\n",
    "library(bucky) #install.packages('bucky')\n",
    "library(miceadds) #install.packages('miceadds')\n",
    "library(multiwayvcov) #install.packages('multiwayvcov')\n",
    "library(stargazer) # install.packages('stargazer')\n",
    "library(corrr)\n",
    "library(tidyverse)"
   ]
  },
  {
   "cell_type": "code",
   "execution_count": 33,
   "metadata": {},
   "outputs": [
    {
     "name": "stderr",
     "output_type": "stream",
     "text": [
      "also installing the dependencies ‘zip’, ‘openxlsx’, ‘nloptr’, ‘pbkrtest’, ‘rio’, ‘lme4’\n",
      "\n"
     ]
    }
   ],
   "source": [
    "install.packages(\"car\")"
   ]
  },
  {
   "cell_type": "code",
   "execution_count": 15,
   "metadata": {},
   "outputs": [
    {
     "ename": "ERROR",
     "evalue": "Error in library(car): there is no package called ‘car’\n",
     "output_type": "error",
     "traceback": [
      "Error in library(car): there is no package called ‘car’\nTraceback:\n",
      "1. library(car)"
     ]
    }
   ],
   "source": [
    "library(car)"
   ]
  },
  {
   "cell_type": "code",
   "execution_count": 25,
   "metadata": {},
   "outputs": [],
   "source": [
    "file = read.csv('energydata_complete.csv')"
   ]
  },
  {
   "cell_type": "code",
   "execution_count": 30,
   "metadata": {
    "scrolled": true
   },
   "outputs": [
    {
     "data": {
      "text/html": [
       "19735"
      ],
      "text/latex": [
       "19735"
      ],
      "text/markdown": [
       "19735"
      ],
      "text/plain": [
       "[1] 19735"
      ]
     },
     "metadata": {},
     "output_type": "display_data"
    }
   ],
   "source": [
    "nrow(file)"
   ]
  },
  {
   "cell_type": "code",
   "execution_count": 26,
   "metadata": {},
   "outputs": [],
   "source": [
    "# 26 IVs here at first.\n",
    "colname <- c(\"Date\",\"Appliances\", \"Lights\", \"Temp_Kitchen\", \"Humd_Kitchen\", \"Temp_Living_Room\", \n",
    "             \"Humd_Living_Room\", \"Temp_Laundry\", \"Humd_Laundry\", \"Temp_Office\", \"Humd_Office\", \n",
    "             \"Temp_Bath\", \"Humd_Bath\", \"Temp_Outside_North\", \"Humd_Outside_North\", \"Temp_Ironing\", \n",
    "             \"Humd_Ironing\", \"Temp_Teen_2\", \"Humd_Teen_2\", \"Temp_Parents\", \"Humd_Parents\", \n",
    "             \"Temp_Outside_Chievres\", \"Pressure_chievres\", \"Humd_Outside_Chievres\", \"Wind_Speed\", \n",
    "             \"Visibility\", \"Tdewpoint\", \"rv1\",\"rv2\")\n",
    "colnames(file) <- colname\n",
    "file$Lights = NULL\n",
    "file$rv1 = NULL\n",
    "file$rv2 = NULL\n",
    "file$Temp_Outside_North = NULL #we only consider Temp_Outside_Chievres to measures temp outside\n",
    "file$Humd_Outside_North = NULL #we only consider Humd_Outside_Chievres to measure humd outside\n",
    "file$Temp_Bath = NULL #temperature of bathroom does not make conceptual sense to be used to analyse power usage of appliances\n",
    "file$Humd_Bath = NULL #humidity of bathroom does not make conceptual sense to be used to analyse power usage of appliances\n",
    "# 20 IVs here.\n",
    "\n",
    "# original = read.csv('energydata_complete.csv')\n",
    "# colnames(original) = colname"
   ]
  },
  {
   "cell_type": "code",
   "execution_count": 1,
   "metadata": {},
   "outputs": [],
   "source": []
  },
  {
   "cell_type": "code",
   "execution_count": null,
   "metadata": {},
   "outputs": [],
   "source": [
    "print(x)"
   ]
  },
  {
   "cell_type": "code",
   "execution_count": null,
   "metadata": {},
   "outputs": [],
   "source": []
  }
 ],
 "metadata": {
  "kernelspec": {
   "display_name": "R",
   "language": "R",
   "name": "ir"
  },
  "language_info": {
   "codemirror_mode": "r",
   "file_extension": ".r",
   "mimetype": "text/x-r-source",
   "name": "R",
   "pygments_lexer": "r",
   "version": "3.6.1"
  }
 },
 "nbformat": 4,
 "nbformat_minor": 2
}
